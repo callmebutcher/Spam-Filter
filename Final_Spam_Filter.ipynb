{
 "cells": [
  {
   "cell_type": "markdown",
   "id": "71f05b4c",
   "metadata": {},
   "source": [
    "# Introduction \n",
    "\n",
    "Natural language processing (NLP) refers to the field within artificial intelligence that deals with the interaction between computers and humans using the natural language. This includes enabling computers to manipulate, analyse, interpret and generate human language. \n",
    "\n",
    "My goal with this notebook is to recreate the results of a spam classifier, a binary classifier (prediction model) capable of classifying a given text message as *ham* or *spam*. \n",
    "\n",
    "The [SMS spam collection dataset](https://www.kaggle.com/uciml/sms-spam-collection-dataset) is a set of SMS tagged messages that have been collected for SMS spam research. It contains a set of 5,572 SMS messages in English, tagged according to ham (legitimate) or spam. \n",
    "\n",
    "For ease of reference, this notebook is structured as follows:\n",
    "0. Import libraries\n",
    "1. Import and read data\n",
    "2. Exploratory data analysis (EDA)\n",
    "3. Feature engineering\n",
    "4. Cleaning text\n",
    "5. Vectorization\n",
    "6. Modelling (using RandomForestClassifier and GradientBoostingClassifier)\n",
    "\n",
    "Without further ado, let's begin!"
   ]
  },
  {
   "cell_type": "markdown",
   "id": "9766c6ad",
   "metadata": {},
   "source": [
    "# 0. Import libraries"
   ]
  },
  {
   "cell_type": "code",
   "execution_count": 1,
   "id": "582e1cca",
   "metadata": {},
   "outputs": [],
   "source": [
    "# Read files \n",
    "import os\n",
    "\n",
    "# Data wrangling and data visualistion \n",
    "import pandas as pd\n",
    "import matplotlib.pyplot as plt\n",
    "import seaborn as sns\n",
    "\n",
    "# Processing text\n",
    "import nltk\n",
    "from nltk.tokenize import word_tokenize\n",
    "import string\n",
    "from sklearn.feature_extraction.text import CountVectorizer, TfidfTransformer, TfidfVectorizer\n",
    "\n",
    "# Machine learning\n",
    "from sklearn.model_selection import train_test_split, cross_val_score\n",
    "from sklearn.compose import make_column_transformer\n",
    "from sklearn.ensemble import RandomForestClassifier\n",
    "from sklearn.metrics import confusion_matrix\n",
    "from sklearn.metrics import precision_recall_fscore_support as score\n",
    "\n",
    "# Others\n",
    "import numpy as np\n",
    "from collections import Counter\n",
    "import time\n",
    "from statistics import mean"
   ]
  },
  {
   "cell_type": "markdown",
   "id": "d0b55b7a",
   "metadata": {},
   "source": [
    "# 1. Import and read data"
   ]
  },
  {
   "cell_type": "code",
   "execution_count": null,
   "id": "2dad3722",
   "metadata": {
    "scrolled": true
   },
   "outputs": [],
   "source": [
    "# List files in current directory \n",
    "os.chdir(\"C:/Users/callmebutcher/Desktop/Minor_Project\")\n",
    "os.listdir(os.curdir)"
   ]
  },
  {
   "cell_type": "code",
   "execution_count": null,
   "id": "ddee51ea",
   "metadata": {},
   "outputs": [],
   "source": [
    "# Read data \n",
    "data = pd.read_csv(\"spam.csv\", encoding = \"latin-1\")\n",
    "data = data.dropna(how = \"any\", axis = 1)\n",
    "data.columns = ['label','body_text']\n",
    "data.head()"
   ]
  },
  {
   "cell_type": "markdown",
   "id": "cc308600",
   "metadata": {},
   "source": [
    "# 2. Exploratory data analysis (EDA)\n",
    "\n",
    "Exploratory data analysis is the process of performing initial investigations on data so as to discover patterns, to spot anomalies, to test hypothesis and to check assumptions with the help of summary statistics and graphical representations."
   ]
  },
  {
   "cell_type": "code",
   "execution_count": null,
   "id": "895008f3",
   "metadata": {},
   "outputs": [],
   "source": [
    "print(f\"Input data has {len(data)} rows and {len(data.columns)} columns.\")"
   ]
  },
  {
   "cell_type": "code",
   "execution_count": null,
   "id": "4c9c77db",
   "metadata": {},
   "outputs": [],
   "source": [
    "print(f\"Out of {len(data)} rows, {len(data[data.label == 'spam'])} are spam and {len(data[data.label == 'ham'])} are ham.\")"
   ]
  },
  {
   "cell_type": "code",
   "execution_count": null,
   "id": "9584b16f",
   "metadata": {},
   "outputs": [],
   "source": [
    "plt.pie(data['label'].value_counts(), labels=['not spam','spam'],autopct=\"%0.2f\", shadow=True, explode=[0, 0.2], colors=[\"blue\", \"red\"])\n",
    "plt.show()"
   ]
  },
  {
   "cell_type": "code",
   "execution_count": null,
   "id": "4d567e51",
   "metadata": {},
   "outputs": [],
   "source": [
    "print(f\"Number of null in label: {data.label.isnull().sum()}\")\n",
    "print(f\"Number of null in text: {data.body_text.isnull().sum()}\")"
   ]
  },
  {
   "cell_type": "markdown",
   "id": "d3f37557",
   "metadata": {},
   "source": [
    "Yay, no missing data!"
   ]
  },
  {
   "cell_type": "markdown",
   "id": "131d0f8d",
   "metadata": {},
   "source": [
    "# 3. Feature engineering\n",
    "\n",
    "Feature engineering is the process of creating new features and/or transforming existing features to get the most out of your data. \n",
    "\n",
    "In this section, I will create two new features:\n",
    "- body_len (length of the body text excluding spaces)\n",
    "- punct% (percentage of punctuation in the body text) \n",
    "\n",
    "There are many other features that you can create to analyse a string or sentence."
   ]
  },
  {
   "cell_type": "code",
   "execution_count": null,
   "id": "91beaa51",
   "metadata": {},
   "outputs": [],
   "source": [
    "# body_len\n",
    "data['body_len'] = data.body_text.apply(lambda x: len(x) - x.count(\" \"))\n",
    "\n",
    "# punct%\n",
    "def count_punct(text):\n",
    "    count = sum([1 for char in text if char in string.punctuation])\n",
    "    return round(count/(len(text) - text.count(\" \")), 3) * 100\n",
    "data['punct%'] = data.body_text.apply(lambda x: count_punct(x))\n",
    "\n",
    "data.head()"
   ]
  },
  {
   "cell_type": "markdown",
   "id": "b0aba48a",
   "metadata": {},
   "source": [
    "# 4. Cleaning text \n",
    "\n",
    "In order to better manage our messy text messages, we will perform the following steps to clean up the input data:\n",
    "\n",
    "- Turn words into lowercase letters only \n",
    "- Remove punctuation\n",
    "- Tokenize words\n",
    "- Remove stopwords\n",
    "- Stemming vs lemmatization (text normalization)"
   ]
  },
  {
   "cell_type": "code",
   "execution_count": null,
   "id": "6d4b6a58",
   "metadata": {},
   "outputs": [],
   "source": [
    "stopwords = nltk.corpus.stopwords.words('english')\n",
    "wn = nltk.WordNetLemmatizer()"
   ]
  },
  {
   "cell_type": "markdown",
   "id": "a0c5e309",
   "metadata": {},
   "source": [
    "# 4.1 Putting everything together into a single clean_text function \n",
    "\n",
    "Now, we want to summarise everything that we have learned about text cleaning into a single function that we can apply to our original text messages data. "
   ]
  },
  {
   "cell_type": "code",
   "execution_count": null,
   "id": "494cfc8e",
   "metadata": {},
   "outputs": [],
   "source": [
    "# Create function for cleaning text  \n",
    "def clean_text(text):\n",
    "    text = \"\".join([word.lower() for word in text if word not in string.punctuation])\n",
    "    tokens = word_tokenize(text)\n",
    "    # text = [ps.stem(word) for word in tokens if word not in stopwords]\n",
    "    text = [wn.lemmatize(word) for word in tokens if word not in stopwords]\n",
    "    return text\n",
    "\n",
    "# Apply function to body_text \n",
    "data['cleaned_text'] = data['body_text'].apply(lambda x: clean_text(x))\n",
    "data[['body_text', 'cleaned_text']].head(10)"
   ]
  },
  {
   "cell_type": "code",
   "execution_count": null,
   "id": "bb83eb6d",
   "metadata": {},
   "outputs": [],
   "source": [
    "# Collect ham words\n",
    "ham_words = list(data.loc[data.label == 'ham', 'cleaned_text'])\n",
    "\n",
    "# Flatten list of lists\n",
    "ham_words = list(np.concatenate(ham_words).flat)\n",
    "\n",
    "# Create dictionary to store word frequency\n",
    "ham_words = Counter(ham_words)\n",
    "pd.DataFrame(ham_words.most_common(50), columns = ['word', 'frequency'])"
   ]
  },
  {
   "cell_type": "code",
   "execution_count": null,
   "id": "00b432c3",
   "metadata": {},
   "outputs": [],
   "source": [
    "# Collect spam words\n",
    "spam_words = list(data.loc[data.label == 'spam', 'cleaned_text'])\n",
    "\n",
    "# Flatten list of lists\n",
    "spam_words = list(np.concatenate(spam_words).flat)\n",
    "\n",
    "# Create dictionary to store word frequency\n",
    "spam_words = Counter(spam_words)\n",
    "pd.DataFrame(spam_words.most_common(50), columns = ['word', 'frequency'])"
   ]
  },
  {
   "cell_type": "markdown",
   "id": "fa52d2b8",
   "metadata": {},
   "source": [
    "## 4.2 Train-test-split\n",
    "Here, we will **train-test-split** the data."
   ]
  },
  {
   "cell_type": "code",
   "execution_count": null,
   "id": "cb4cf538",
   "metadata": {},
   "outputs": [],
   "source": [
    "data.head()"
   ]
  },
  {
   "cell_type": "code",
   "execution_count": null,
   "id": "5b5cb2dc",
   "metadata": {},
   "outputs": [],
   "source": [
    "# Train test split\n",
    "X_train, X_test, Y_train, Y_test = train_test_split(data[['body_text', 'body_len', 'punct%']], data.label, random_state = 42, test_size = 0.2)\n",
    "\n",
    "# Check shape \n",
    "print(f\"X_train shape: {X_train.shape}\")\n",
    "print(f\"Y_train shape: {Y_train.shape}\")\n",
    "print(f\"X_test shape: {X_test.shape}\")\n",
    "print(f\"Y_test shape: {Y_test.shape}\")"
   ]
  },
  {
   "cell_type": "markdown",
   "id": "bd552a1b",
   "metadata": {},
   "source": [
    "# 5. Vectorization \n",
    "\n",
    "Vectorizing is the process of encoding text as integers to create feature vectors. "
   ]
  },
  {
   "attachments": {
    "image.png": {
     "image/png": "[encoded data removed]"
    }
   },
   "cell_type": "markdown",
   "id": "3ed880df",
   "metadata": {},
   "source": [
    "## 5.1 How (CountVectorizer + TfidfTransformer) works\n",
    "\n",
    "[CountVectorizer](http://scikit-learn.org/stable/modules/generated/sklearn.feature_extraction.text.CountVectorizer.html) creates a document-term matrix where the entry of each cell will be a count of the number of times that word occurred in that document. \n",
    "\n",
    "[TfidfTransformer](http://scikit-learn.org/stable/modules/generated/sklearn.feature_extraction.text.TfidfTransformer.html) is similar to that of a CountVectorizer but instead of the cells representing the count, the cells represent a weighting that is meant to identify how important a word is to an individual text message. The formula to compute the weighting for each cell is as follows:\n",
    "\n",
    "![image.png](attachment:image.png)"
   ]
  },
  {
   "cell_type": "code",
   "execution_count": null,
   "id": "ac5b7f54",
   "metadata": {},
   "outputs": [],
   "source": [
    "# Instantiate and fit TfidfVectorizer\n",
    "tfidf_vect = TfidfVectorizer(analyzer = clean_text)\n",
    "tfidf_vect_fit = tfidf_vect.fit(X_train['body_text'])\n",
    "\n",
    "# Use fitted TfidfVectorizer to transform body text in X_train and X_test\n",
    "tfidf_train = tfidf_vect.transform(X_train['body_text'])\n",
    "tfidf_test = tfidf_vect.transform(X_test['body_text'])\n",
    "\n",
    "# Recombine transformed body text with body_len and punct% features\n",
    "X_train = pd.concat([X_train[['body_len', 'punct%']].reset_index(drop = True), pd.DataFrame(tfidf_train.toarray())], axis = 1)\n",
    "X_test = pd.concat([X_test[['body_len', 'punct%']].reset_index(drop = True), pd.DataFrame(tfidf_test.toarray())], axis = 1)\n",
    "\n",
    "# Check shape\n",
    "print(f\"X_train shape: {X_train.shape}\")\n",
    "print(f\"Y_train shape: {Y_train.shape}\")\n",
    "print(f\"X_test shape: {X_test.shape}\")\n",
    "print(f\"Y_test shape: {Y_test.shape}\")"
   ]
  },
  {
   "cell_type": "markdown",
   "id": "4471aadc",
   "metadata": {},
   "source": [
    "# 6. Modelling\n",
    "\n",
    "Now that our data is ready, we can finally move on to modelling, that is building a binary classifier to classify a given text as ham or spam.\n",
    "\n",
    "Here, we will make a **random forest** machine learning model."
   ]
  },
  {
   "cell_type": "markdown",
   "id": "2ba81bda",
   "metadata": {},
   "source": [
    "## 6.1 RandomForestClassifier\n",
    "\n",
    "[RandomForestClassifier](https://scikit-learn.org/stable/modules/generated/sklearn.ensemble.RandomForestClassifier.html) is an ensemble learning method (bagging) that constructs a collection of decision trees and then aggregates the predictions of each tree to determine the final prediction."
   ]
  },
  {
   "cell_type": "code",
   "execution_count": null,
   "id": "a36810d8",
   "metadata": {},
   "outputs": [],
   "source": [
    "# Instantiate RandomForestClassifier with optimal set of hyperparameters \n",
    "rf = RandomForestClassifier(n_estimators = 50, max_depth = None, random_state = 42, n_jobs = -1)\n",
    "\n",
    "# Fit model\n",
    "start = time.time()\n",
    "rf_model = rf.fit(X_train, Y_train)\n",
    "end = time.time()\n",
    "fit_time = end - start\n",
    "\n",
    "# Predict \n",
    "start = time.time()\n",
    "Y_pred = rf_model.predict(X_test)\n",
    "end = time.time()\n",
    "pred_time = end - start\n",
    "\n",
    "# Time and prediction results\n",
    "precision, recall, fscore, support = score(Y_test, Y_pred, pos_label = 'spam', average = 'binary')\n",
    "print(f\"Fit time: {round(fit_time, 3)} / Predict time: {round(pred_time, 3)}\")\n",
    "print(f\"Precision: {round(precision, 3)} / Recall: {round(recall, 3)} / Accuracy: {round((Y_pred==Y_test).sum() / len(Y_pred), 3)}\")"
   ]
  },
  {
   "cell_type": "code",
   "execution_count": null,
   "id": "b397f64d",
   "metadata": {},
   "outputs": [],
   "source": [
    "# Confusion matrix for RandomForestClassifier\n",
    "matrix = confusion_matrix(Y_test, Y_pred)\n",
    "sns.heatmap(matrix, annot = True, fmt = 'd')"
   ]
  },
  {
   "cell_type": "markdown",
   "id": "17206022",
   "metadata": {},
   "source": [
    "# Conclusion\n",
    "\n",
    "To wrap up, we have successfully completed an end-to-end natural language processing (NLP) project which involves building a binary classifier capable of classifying a given text message as spam or ham.\n",
    "\n",
    "We started off the project by exploring the dataset, followed by feature engineering where we created two new features: *body_len* and *punct%*. We then moved on to performing some preprocessing steps that are specific to the NLP pipeline such as removing punctuations and stopwords, tokenizing and stemming / lemmatization. After that, we performed vectorization using **TfidfVectorizer** in order to encode text and turn them into feature vectors for machine learning. Finally, we were able to build prediction model: **RandomForestClassifier** as well as compute its accuracy and overall performance.\n"
   ]
  }
 ],
 "metadata": {
  "kernelspec": {
   "display_name": "Python 3 (ipykernel)",
   "language": "python",
   "name": "python3"
  },
  "language_info": {
   "codemirror_mode": {
    "name": "ipython",
    "version": 3
   },
   "file_extension": ".py",
   "mimetype": "text/x-python",
   "name": "python",
   "nbconvert_exporter": "python",
   "pygments_lexer": "ipython3",
   "version": "3.10.7"
  }
 },
 "nbformat": 4,
 "nbformat_minor": 5
}
